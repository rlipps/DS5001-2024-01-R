{
 "cells": [
  {
   "cell_type": "code",
   "execution_count": 5,
   "id": "c61a07e9-a878-415b-a40d-13ef891cf51b",
   "metadata": {},
   "outputs": [],
   "source": [
    "import pandas as pd\n",
    "import numpy as np\n",
    "import scipy as sp"
   ]
  },
  {
   "cell_type": "code",
   "execution_count": 10,
   "id": "d4cbc5d3-a36c-4954-9fa5-670ec3a03a11",
   "metadata": {},
   "outputs": [],
   "source": [
    "data_in = '../../../data/novels'\n",
    "data_prefix = 'novels'"
   ]
  },
  {
   "cell_type": "code",
   "execution_count": 11,
   "id": "a0e44753-5d7b-4f9b-b666-e29fec39cf09",
   "metadata": {},
   "outputs": [],
   "source": [
    "OHCO = ['book', 'chapter', 'para_num', 'sent_num', 'token_num']\n",
    "BAG = OHCO[2:5] # Paragraphs"
   ]
  },
  {
   "cell_type": "code",
   "execution_count": 12,
   "id": "0f9ef7cb-abcd-4014-a04b-935ffc13fe7d",
   "metadata": {},
   "outputs": [],
   "source": [
    "# Word Embedding window\n",
    "w = 2"
   ]
  },
  {
   "cell_type": "code",
   "execution_count": 13,
   "id": "722d9086-df33-4136-88f1-71adc99afd3c",
   "metadata": {},
   "outputs": [],
   "source": [
    "TOKENS = pd.read_csv(f'{data_in}/{data_prefix}-TOKENS.csv')"
   ]
  },
  {
   "cell_type": "code",
   "execution_count": 19,
   "id": "2767ff3e-d87c-4870-943a-bb7b63b53906",
   "metadata": {},
   "outputs": [],
   "source": [
    "OHCO = TOKENS.columns.tolist()[:5]"
   ]
  },
  {
   "cell_type": "code",
   "execution_count": 21,
   "id": "41f154ae-8ca5-46a2-81db-1b5ea22d60ed",
   "metadata": {},
   "outputs": [],
   "source": [
    "SENT = OHCO[:4]"
   ]
  },
  {
   "cell_type": "code",
   "execution_count": 25,
   "id": "069b5a4e-e104-4cca-98b7-7c6b07726b60",
   "metadata": {},
   "outputs": [],
   "source": [
    "# TOKENS.groupby(SENT+['term_str'])"
   ]
  },
  {
   "cell_type": "code",
   "execution_count": 26,
   "id": "246db9a0-ecfa-4e06-a7d0-35bc7f0ab297",
   "metadata": {},
   "outputs": [],
   "source": [
    "TK = TOKENS[['token_num', 'term_str']].copy()"
   ]
  },
  {
   "cell_type": "code",
   "execution_count": 27,
   "id": "a302f5f6-32c2-4b71-a6fd-84086033244c",
   "metadata": {},
   "outputs": [],
   "source": [
    "W = pd.concat([TK.shift(2), TK.shift(1), TK, TK.shift(-1), TK.shift(-2)], axis=1, keys=\"n2 n1 w p1 p2\".split())"
   ]
  },
  {
   "cell_type": "code",
   "execution_count": 16,
   "id": "160771d0-72fa-4646-9460-b0b03bf19029",
   "metadata": {},
   "outputs": [],
   "source": [
    "s = W[W.p2.token_num == 0].sample()"
   ]
  },
  {
   "cell_type": "code",
   "execution_count": 17,
   "id": "8acfdca4-4958-463e-af31-9fd7c40915de",
   "metadata": {
    "scrolled": true
   },
   "outputs": [
    {
     "data": {
      "text/html": [
       "<div>\n",
       "<style scoped>\n",
       "    .dataframe tbody tr th:only-of-type {\n",
       "        vertical-align: middle;\n",
       "    }\n",
       "\n",
       "    .dataframe tbody tr th {\n",
       "        vertical-align: top;\n",
       "    }\n",
       "\n",
       "    .dataframe thead tr th {\n",
       "        text-align: left;\n",
       "    }\n",
       "</style>\n",
       "<table border=\"1\" class=\"dataframe\">\n",
       "  <thead>\n",
       "    <tr>\n",
       "      <th></th>\n",
       "      <th colspan=\"2\" halign=\"left\">n2</th>\n",
       "      <th colspan=\"2\" halign=\"left\">n1</th>\n",
       "      <th colspan=\"2\" halign=\"left\">w</th>\n",
       "      <th colspan=\"2\" halign=\"left\">p1</th>\n",
       "      <th colspan=\"2\" halign=\"left\">p2</th>\n",
       "    </tr>\n",
       "    <tr>\n",
       "      <th></th>\n",
       "      <th>token_num</th>\n",
       "      <th>term_str</th>\n",
       "      <th>token_num</th>\n",
       "      <th>term_str</th>\n",
       "      <th>token_num</th>\n",
       "      <th>term_str</th>\n",
       "      <th>token_num</th>\n",
       "      <th>term_str</th>\n",
       "      <th>token_num</th>\n",
       "      <th>term_str</th>\n",
       "    </tr>\n",
       "  </thead>\n",
       "  <tbody>\n",
       "    <tr>\n",
       "      <th>859916</th>\n",
       "      <td>11.0</td>\n",
       "      <td>gentleness</td>\n",
       "      <td>12.0</td>\n",
       "      <td>and</td>\n",
       "      <td>13</td>\n",
       "      <td>joy</td>\n",
       "      <td>14.0</td>\n",
       "      <td>impart</td>\n",
       "      <td>0.0</td>\n",
       "      <td>the</td>\n",
       "    </tr>\n",
       "  </tbody>\n",
       "</table>\n",
       "</div>"
      ],
      "text/plain": [
       "              n2                    n1                  w                 p1  \\\n",
       "       token_num    term_str token_num term_str token_num term_str token_num   \n",
       "859916      11.0  gentleness      12.0      and        13      joy      14.0   \n",
       "\n",
       "                       p2           \n",
       "       term_str token_num term_str  \n",
       "859916   impart       0.0      the  "
      ]
     },
     "execution_count": 17,
     "metadata": {},
     "output_type": "execute_result"
    }
   ],
   "source": [
    "s"
   ]
  },
  {
   "cell_type": "code",
   "execution_count": null,
   "id": "3fc6acb0-7014-431f-b315-f11f80a5a204",
   "metadata": {},
   "outputs": [],
   "source": [
    "for idx, row in W.iterrows():\n",
    "    \n",
    "    a = row.n2.token_num\n",
    "    b = row.n1.token_num\n",
    "    c = row.w.token_num\n",
    "    d = row.p1.token_num\n",
    "    e = row.p2.token_num\n",
    "\n",
    "    if c == 0:\n",
    "        a = None\n",
    "        b = None\n",
    "    if c == 1:\n",
    "        a = None\n",
    "        b = \n",
    "    if c - a > 0:\n",
    "        pass\n",
    "    if c - b > 0:\n",
    "        pass\n",
    "    if c < e:\n",
    "        pass\n",
    "    if c < d:\n",
    "        pass"
   ]
  },
  {
   "cell_type": "code",
   "execution_count": 61,
   "id": "f29f48e6-980c-47da-9ce0-711c526c1150",
   "metadata": {},
   "outputs": [
    {
     "data": {
      "text/plain": [
       "43610    1.0\n",
       "Name: token_num, dtype: float64"
      ]
     },
     "execution_count": 61,
     "metadata": {},
     "output_type": "execute_result"
    }
   ],
   "source": [
    "s.w.token_num - s.n1.token_num"
   ]
  },
  {
   "cell_type": "code",
   "execution_count": 62,
   "id": "00a659cd-e4cf-453d-8fba-6c9b7771d132",
   "metadata": {},
   "outputs": [
    {
     "data": {
      "text/plain": [
       "43610   -50.0\n",
       "Name: token_num, dtype: float64"
      ]
     },
     "execution_count": 62,
     "metadata": {},
     "output_type": "execute_result"
    }
   ],
   "source": [
    "s.w.token_num - s.n2.token_num"
   ]
  },
  {
   "cell_type": "code",
   "execution_count": 63,
   "id": "db138c0c-6a09-4b06-8184-0471a48dfdc3",
   "metadata": {},
   "outputs": [
    {
     "data": {
      "text/plain": [
       "43610   -1.0\n",
       "Name: token_num, dtype: float64"
      ]
     },
     "execution_count": 63,
     "metadata": {},
     "output_type": "execute_result"
    }
   ],
   "source": [
    "s.w.token_num - s.p1.token_num"
   ]
  },
  {
   "cell_type": "code",
   "execution_count": 64,
   "id": "53eadbab-423c-4da9-acd5-dc0819b5c9ab",
   "metadata": {},
   "outputs": [
    {
     "data": {
      "text/plain": [
       "43610    1.0\n",
       "Name: token_num, dtype: float64"
      ]
     },
     "execution_count": 64,
     "metadata": {},
     "output_type": "execute_result"
    }
   ],
   "source": [
    "s.w.token_num - s.p2.token_num"
   ]
  }
 ],
 "metadata": {
  "kernelspec": {
   "display_name": "Python [conda env:ds5001]",
   "language": "python",
   "name": "conda-env-ds5001-py"
  },
  "language_info": {
   "codemirror_mode": {
    "name": "ipython",
    "version": 3
   },
   "file_extension": ".py",
   "mimetype": "text/x-python",
   "name": "python",
   "nbconvert_exporter": "python",
   "pygments_lexer": "ipython3",
   "version": "3.11.5"
  }
 },
 "nbformat": 4,
 "nbformat_minor": 5
}
