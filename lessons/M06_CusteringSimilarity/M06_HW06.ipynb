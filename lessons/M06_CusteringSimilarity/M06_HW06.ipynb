{
 "cells": [
  {
   "cell_type": "markdown",
   "metadata": {},
   "source": [
    "# Homework 6\n",
    "\n",
    "```yaml\n",
    "Course:   DS 5001\n",
    "Module:   06 6 Lab\n",
    "Topic:    Homework 6\n",
    "Author:   Ryan Lipps\n",
    "Date:     2/23/24\n",
    "```"
   ]
  },
  {
   "cell_type": "markdown",
   "metadata": {},
   "source": []
  }
 ],
 "metadata": {
  "language_info": {
   "name": "python"
  }
 },
 "nbformat": 4,
 "nbformat_minor": 2
}
